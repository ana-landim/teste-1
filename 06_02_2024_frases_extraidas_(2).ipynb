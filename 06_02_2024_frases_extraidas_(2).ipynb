{
  "nbformat": 4,
  "nbformat_minor": 0,
  "metadata": {
    "colab": {
      "provenance": [],
      "include_colab_link": true
    },
    "kernelspec": {
      "name": "python3",
      "display_name": "Python 3"
    },
    "language_info": {
      "name": "python"
    }
  },
  "cells": [
    {
      "cell_type": "markdown",
      "metadata": {
        "id": "view-in-github",
        "colab_type": "text"
      },
      "source": [
        "<a href=\"https://colab.research.google.com/github/ana-landim/teste-1/blob/main/06_02_2024_frases_extraidas_(2).ipynb\" target=\"_parent\"><img src=\"https://colab.research.google.com/assets/colab-badge.svg\" alt=\"Open In Colab\"/></a>"
      ]
    },
    {
      "cell_type": "code",
      "source": [
        "!pip install PyMuPDF"
      ],
      "metadata": {
        "colab": {
          "base_uri": "https://localhost:8080/"
        },
        "id": "9TSGcRA3tKPU",
        "outputId": "8a3b0433-ab83-49f2-bc7e-9ff35dfcf9a3"
      },
      "execution_count": null,
      "outputs": [
        {
          "output_type": "stream",
          "name": "stdout",
          "text": [
            "Requirement already satisfied: PyMuPDF in /usr/local/lib/python3.11/dist-packages (1.25.2)\n"
          ]
        }
      ]
    },
    {
      "cell_type": "code",
      "execution_count": null,
      "metadata": {
        "colab": {
          "base_uri": "https://localhost:8080/",
          "height": 214
        },
        "id": "7fTj913RmJtj",
        "outputId": "dce724ce-4df5-439c-a1e8-da74b3037de2"
      },
      "outputs": [
        {
          "output_type": "display_data",
          "data": {
            "text/plain": [
              "<IPython.core.display.HTML object>"
            ],
            "text/html": [
              "\n",
              "     <input type=\"file\" id=\"files-3cc371e1-9a37-43d6-8e12-aa29d7f7585d\" name=\"files[]\" multiple disabled\n",
              "        style=\"border:none\" />\n",
              "     <output id=\"result-3cc371e1-9a37-43d6-8e12-aa29d7f7585d\">\n",
              "      Upload widget is only available when the cell has been executed in the\n",
              "      current browser session. Please rerun this cell to enable.\n",
              "      </output>\n",
              "      <script>// Copyright 2017 Google LLC\n",
              "//\n",
              "// Licensed under the Apache License, Version 2.0 (the \"License\");\n",
              "// you may not use this file except in compliance with the License.\n",
              "// You may obtain a copy of the License at\n",
              "//\n",
              "//      http://www.apache.org/licenses/LICENSE-2.0\n",
              "//\n",
              "// Unless required by applicable law or agreed to in writing, software\n",
              "// distributed under the License is distributed on an \"AS IS\" BASIS,\n",
              "// WITHOUT WARRANTIES OR CONDITIONS OF ANY KIND, either express or implied.\n",
              "// See the License for the specific language governing permissions and\n",
              "// limitations under the License.\n",
              "\n",
              "/**\n",
              " * @fileoverview Helpers for google.colab Python module.\n",
              " */\n",
              "(function(scope) {\n",
              "function span(text, styleAttributes = {}) {\n",
              "  const element = document.createElement('span');\n",
              "  element.textContent = text;\n",
              "  for (const key of Object.keys(styleAttributes)) {\n",
              "    element.style[key] = styleAttributes[key];\n",
              "  }\n",
              "  return element;\n",
              "}\n",
              "\n",
              "// Max number of bytes which will be uploaded at a time.\n",
              "const MAX_PAYLOAD_SIZE = 100 * 1024;\n",
              "\n",
              "function _uploadFiles(inputId, outputId) {\n",
              "  const steps = uploadFilesStep(inputId, outputId);\n",
              "  const outputElement = document.getElementById(outputId);\n",
              "  // Cache steps on the outputElement to make it available for the next call\n",
              "  // to uploadFilesContinue from Python.\n",
              "  outputElement.steps = steps;\n",
              "\n",
              "  return _uploadFilesContinue(outputId);\n",
              "}\n",
              "\n",
              "// This is roughly an async generator (not supported in the browser yet),\n",
              "// where there are multiple asynchronous steps and the Python side is going\n",
              "// to poll for completion of each step.\n",
              "// This uses a Promise to block the python side on completion of each step,\n",
              "// then passes the result of the previous step as the input to the next step.\n",
              "function _uploadFilesContinue(outputId) {\n",
              "  const outputElement = document.getElementById(outputId);\n",
              "  const steps = outputElement.steps;\n",
              "\n",
              "  const next = steps.next(outputElement.lastPromiseValue);\n",
              "  return Promise.resolve(next.value.promise).then((value) => {\n",
              "    // Cache the last promise value to make it available to the next\n",
              "    // step of the generator.\n",
              "    outputElement.lastPromiseValue = value;\n",
              "    return next.value.response;\n",
              "  });\n",
              "}\n",
              "\n",
              "/**\n",
              " * Generator function which is called between each async step of the upload\n",
              " * process.\n",
              " * @param {string} inputId Element ID of the input file picker element.\n",
              " * @param {string} outputId Element ID of the output display.\n",
              " * @return {!Iterable<!Object>} Iterable of next steps.\n",
              " */\n",
              "function* uploadFilesStep(inputId, outputId) {\n",
              "  const inputElement = document.getElementById(inputId);\n",
              "  inputElement.disabled = false;\n",
              "\n",
              "  const outputElement = document.getElementById(outputId);\n",
              "  outputElement.innerHTML = '';\n",
              "\n",
              "  const pickedPromise = new Promise((resolve) => {\n",
              "    inputElement.addEventListener('change', (e) => {\n",
              "      resolve(e.target.files);\n",
              "    });\n",
              "  });\n",
              "\n",
              "  const cancel = document.createElement('button');\n",
              "  inputElement.parentElement.appendChild(cancel);\n",
              "  cancel.textContent = 'Cancel upload';\n",
              "  const cancelPromise = new Promise((resolve) => {\n",
              "    cancel.onclick = () => {\n",
              "      resolve(null);\n",
              "    };\n",
              "  });\n",
              "\n",
              "  // Wait for the user to pick the files.\n",
              "  const files = yield {\n",
              "    promise: Promise.race([pickedPromise, cancelPromise]),\n",
              "    response: {\n",
              "      action: 'starting',\n",
              "    }\n",
              "  };\n",
              "\n",
              "  cancel.remove();\n",
              "\n",
              "  // Disable the input element since further picks are not allowed.\n",
              "  inputElement.disabled = true;\n",
              "\n",
              "  if (!files) {\n",
              "    return {\n",
              "      response: {\n",
              "        action: 'complete',\n",
              "      }\n",
              "    };\n",
              "  }\n",
              "\n",
              "  for (const file of files) {\n",
              "    const li = document.createElement('li');\n",
              "    li.append(span(file.name, {fontWeight: 'bold'}));\n",
              "    li.append(span(\n",
              "        `(${file.type || 'n/a'}) - ${file.size} bytes, ` +\n",
              "        `last modified: ${\n",
              "            file.lastModifiedDate ? file.lastModifiedDate.toLocaleDateString() :\n",
              "                                    'n/a'} - `));\n",
              "    const percent = span('0% done');\n",
              "    li.appendChild(percent);\n",
              "\n",
              "    outputElement.appendChild(li);\n",
              "\n",
              "    const fileDataPromise = new Promise((resolve) => {\n",
              "      const reader = new FileReader();\n",
              "      reader.onload = (e) => {\n",
              "        resolve(e.target.result);\n",
              "      };\n",
              "      reader.readAsArrayBuffer(file);\n",
              "    });\n",
              "    // Wait for the data to be ready.\n",
              "    let fileData = yield {\n",
              "      promise: fileDataPromise,\n",
              "      response: {\n",
              "        action: 'continue',\n",
              "      }\n",
              "    };\n",
              "\n",
              "    // Use a chunked sending to avoid message size limits. See b/62115660.\n",
              "    let position = 0;\n",
              "    do {\n",
              "      const length = Math.min(fileData.byteLength - position, MAX_PAYLOAD_SIZE);\n",
              "      const chunk = new Uint8Array(fileData, position, length);\n",
              "      position += length;\n",
              "\n",
              "      const base64 = btoa(String.fromCharCode.apply(null, chunk));\n",
              "      yield {\n",
              "        response: {\n",
              "          action: 'append',\n",
              "          file: file.name,\n",
              "          data: base64,\n",
              "        },\n",
              "      };\n",
              "\n",
              "      let percentDone = fileData.byteLength === 0 ?\n",
              "          100 :\n",
              "          Math.round((position / fileData.byteLength) * 100);\n",
              "      percent.textContent = `${percentDone}% done`;\n",
              "\n",
              "    } while (position < fileData.byteLength);\n",
              "  }\n",
              "\n",
              "  // All done.\n",
              "  yield {\n",
              "    response: {\n",
              "      action: 'complete',\n",
              "    }\n",
              "  };\n",
              "}\n",
              "\n",
              "scope.google = scope.google || {};\n",
              "scope.google.colab = scope.google.colab || {};\n",
              "scope.google.colab._files = {\n",
              "  _uploadFiles,\n",
              "  _uploadFilesContinue,\n",
              "};\n",
              "})(self);\n",
              "</script> "
            ]
          },
          "metadata": {}
        },
        {
          "output_type": "stream",
          "name": "stdout",
          "text": [
            "Saving alemao (1).txt to alemao (1) (5).txt\n",
            "Saving portugues (1).txt to portugues (1) (5).txt\n",
            "Saving crioulo (1).txt to crioulo (1) (5).txt\n",
            "Saving Lang et al. 2002. Dicionário do Crioulo da Ilha de Santiago.pdf to Lang et al. 2002. Dicionário do Crioulo da Ilha de Santiago (5).pdf\n"
          ]
        }
      ],
      "source": [
        "# Carregar os ficheiros para o Google Colab\n",
        "from google.colab import files\n",
        "\n",
        "# Fazer o upload dos ficheiros PDF e TXT\n",
        "uploaded = files.upload()"
      ]
    },
    {
      "cell_type": "code",
      "source": [
        "#  Extração do Texto do PDF\n",
        "\n",
        "import fitz  # PyMuPDF\n",
        "\n",
        "# Nome do ficheiro PDF carregado\n",
        "pdf_filename = \"Lang et al. 2002. Dicionário do Crioulo da Ilha de Santiago.pdf\"\n",
        "\n",
        "# Abrir o PDF e extrair o texto\n",
        "doc = fitz.open(pdf_filename)\n",
        "text = \"\"\n",
        "for page in doc:\n",
        "    text += page.get_text(\"text\") + \"\\n\""
      ],
      "metadata": {
        "id": "Yy57lhCqu4QU"
      },
      "execution_count": null,
      "outputs": []
    },
    {
      "cell_type": "code",
      "source": [
        "# Carregar as Listas de Palavras\n",
        "\n",
        "# Nome dos Ficheiros de referência\n",
        "ficheiro_alemao = \"alemao (1).txt\"\n",
        "ficheiro_crioulo = \"crioulo (1).txt\"\n",
        "ficheiro_portugues = \"portugues (1).txt\"\n",
        "\n",
        "# Carregar palavras/frases em alemão\n",
        "with open(ficheiro_alemao, \"r\", encoding=\"utf-8\") as f:\n",
        "    palavras_alemao = {linha.strip().lower() for linha in f.readlines() if linha.strip()}\n",
        "\n",
        "# Carregar palavras de referência em crioulo\n",
        "with open(ficheiro_crioulo, \"r\", encoding=\"utf-8\") as f:\n",
        "    palavras_crioulo = {linha.strip().lower() for linha in f.readlines() if linha.strip()}\n",
        "\n",
        "# Carregar palavras de referência em português\n",
        "with open(ficheiro_portugues, \"r\", encoding=\"utf-8\") as f:\n",
        "    palavras_portugues = {linha.strip().lower() for linha in f.readlines() if linha.strip()}"
      ],
      "metadata": {
        "id": "qj8LsXp2vDmr"
      },
      "execution_count": null,
      "outputs": []
    },
    {
      "cell_type": "code",
      "source": [
        "# Remover Palavras/Frases em Alemão e Corrigir Pontuação\n",
        "\n",
        "import re  # Biblioteca para expressões regulares\n",
        "\n",
        "# Criar um padrão regex para remover palavras/frases em alemão\n",
        "padrao_alemao = r\"\\b(\" + \"|\".join(re.escape(palavra) for palavra in palavras_alemao) + r\")\\b\"\n",
        "\n",
        "# Substituir palavras/frases alemãs por espaço vazio\n",
        "texto_limpo = re.sub(padrao_alemao, \"\", text, flags=re.IGNORECASE)\n",
        "\n",
        "# Ajustar pontuação antes e depois das palavras removidas\n",
        "texto_limpo = re.sub(r\"\\s*[,;]\\s*,\", \",\", texto_limpo)  # Remove vírgulas duplicadas\n",
        "texto_limpo = re.sub(r\"\\s*[,;]\\s*;\", \";\", texto_limpo)  # Remove ponto-e-vírgula duplicado\n",
        "texto_limpo = re.sub(r\",\\s*\\.\", \".\", texto_limpo)  # Remove vírgula antes de ponto final\n",
        "texto_limpo = re.sub(r\";\\s*\\.\", \".\", texto_limpo)  # Remove ponto-e-vírgula antes de ponto final\n",
        "texto_limpo = re.sub(r\"\\s{2,}\", \" \", texto_limpo)  # Remove múltiplos espaços extras"
      ],
      "metadata": {
        "id": "coChRG-MvqOs"
      },
      "execution_count": null,
      "outputs": []
    },
    {
      "cell_type": "code",
      "source": [
        "#  Extrair as Frases Contendo Cada Lema\n",
        "\n",
        "# Expressão regular para capturar os lemas e suas definições/frases\n",
        "lema_pattern = re.compile(r\"(\\w+)\\s*\\[.*?\\]\\s*s\\.,\\s*dt\\.\\s*(.*?)\\.\\s*#\\s*(.*?)\\n\", re.MULTILINE)\n",
        "\n",
        "# Lista para armazenar os resultados\n",
        "resultados = []\n",
        "\n",
        "for match in lema_pattern.finditer(texto_limpo):\n",
        "    lema = match.group(1)  # Nome do lema\n",
        "    traducao = match.group(2)  # Tradução para português\n",
        "    frase = match.group(3)  # Frase de exemplo\n",
        "\n",
        "    # Substituir o \"~\" pelo lema na frase para garantir que está correto\n",
        "    frase_formatada = frase.replace(\"~\", lema)\n",
        "\n",
        "    # Formatar o resultado final\n",
        "    resultado = f'\"{frase_formatada}.\"\\n\\n\"{lema.capitalize()}: {traducao}\"\\n\\n'\n",
        "    resultados.append(resultado)\n",
        "\n",
        "# Criar um único texto formatado\n",
        "resultado_final = \"\\n\".join(resultados)"
      ],
      "metadata": {
        "id": "pMPqI0BcwGz8"
      },
      "execution_count": null,
      "outputs": []
    },
    {
      "cell_type": "code",
      "source": [
        "# Salvar os Resultados em um ficheiro de Texto\n",
        "\n",
        "# Nome do ficheiro de saída\n",
        "output_filename = \"frases_extraidas.txt\"\n",
        "\n",
        "# Escrever os resultados no ficheiro\n",
        "with open(output_filename, \"w\", encoding=\"utf-8\") as f:\n",
        "    f.write(resultado_final)\n",
        "\n",
        "# Oferecer o download do ficheiro\n",
        "files.download(output_filename)"
      ],
      "metadata": {
        "id": "Aawej-38wRlL",
        "colab": {
          "base_uri": "https://localhost:8080/",
          "height": 17
        },
        "outputId": "c9ef2cda-de65-40e6-a0c0-4a51a57324a8"
      },
      "execution_count": null,
      "outputs": [
        {
          "output_type": "display_data",
          "data": {
            "text/plain": [
              "<IPython.core.display.Javascript object>"
            ],
            "application/javascript": [
              "\n",
              "    async function download(id, filename, size) {\n",
              "      if (!google.colab.kernel.accessAllowed) {\n",
              "        return;\n",
              "      }\n",
              "      const div = document.createElement('div');\n",
              "      const label = document.createElement('label');\n",
              "      label.textContent = `Downloading \"${filename}\": `;\n",
              "      div.appendChild(label);\n",
              "      const progress = document.createElement('progress');\n",
              "      progress.max = size;\n",
              "      div.appendChild(progress);\n",
              "      document.body.appendChild(div);\n",
              "\n",
              "      const buffers = [];\n",
              "      let downloaded = 0;\n",
              "\n",
              "      const channel = await google.colab.kernel.comms.open(id);\n",
              "      // Send a message to notify the kernel that we're ready.\n",
              "      channel.send({})\n",
              "\n",
              "      for await (const message of channel.messages) {\n",
              "        // Send a message to notify the kernel that we're ready.\n",
              "        channel.send({})\n",
              "        if (message.buffers) {\n",
              "          for (const buffer of message.buffers) {\n",
              "            buffers.push(buffer);\n",
              "            downloaded += buffer.byteLength;\n",
              "            progress.value = downloaded;\n",
              "          }\n",
              "        }\n",
              "      }\n",
              "      const blob = new Blob(buffers, {type: 'application/binary'});\n",
              "      const a = document.createElement('a');\n",
              "      a.href = window.URL.createObjectURL(blob);\n",
              "      a.download = filename;\n",
              "      div.appendChild(a);\n",
              "      a.click();\n",
              "      div.remove();\n",
              "    }\n",
              "  "
            ]
          },
          "metadata": {}
        },
        {
          "output_type": "display_data",
          "data": {
            "text/plain": [
              "<IPython.core.display.Javascript object>"
            ],
            "application/javascript": [
              "download(\"download_785d30c7-fb7b-4204-b464-ffadf9ef3c0c\", \"frases_extraidas.txt\", 101714)"
            ]
          },
          "metadata": {}
        }
      ]
    }
  ]
}