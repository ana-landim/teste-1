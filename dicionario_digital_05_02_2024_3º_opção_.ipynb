{
  "nbformat": 4,
  "nbformat_minor": 0,
  "metadata": {
    "colab": {
      "provenance": [],
      "include_colab_link": true
    },
    "kernelspec": {
      "name": "python3",
      "display_name": "Python 3"
    },
    "language_info": {
      "name": "python"
    }
  },
  "cells": [
    {
      "cell_type": "markdown",
      "metadata": {
        "id": "view-in-github",
        "colab_type": "text"
      },
      "source": [
        "<a href=\"https://colab.research.google.com/github/ana-landim/teste-1/blob/main/dicionario_digital_05_02_2024_3%C2%BA_op%C3%A7%C3%A3o_.ipynb\" target=\"_parent\"><img src=\"https://colab.research.google.com/assets/colab-badge.svg\" alt=\"Open In Colab\"/></a>"
      ]
    },
    {
      "cell_type": "markdown",
      "source": [
        "# Dicionário Krioulu Kabu Berdiano"
      ],
      "metadata": {
        "id": "vnMS_zgHuqtr"
      }
    },
    {
      "cell_type": "markdown",
      "source": [
        "##Passo 1: Import e instalação de bibliotecas"
      ],
      "metadata": {
        "id": "dn5wVkwQuVtb"
      }
    },
    {
      "cell_type": "code",
      "source": [
        "# Instalação das bibliotecas\n",
        "!pip install PyMuPDF\n",
        "!pip install re"
      ],
      "metadata": {
        "colab": {
          "base_uri": "https://localhost:8080/"
        },
        "id": "kDBNKzX7u96W",
        "outputId": "b6d18a67-a593-43d8-ec3f-72f5c3f920c2"
      },
      "execution_count": 1,
      "outputs": [
        {
          "output_type": "stream",
          "name": "stdout",
          "text": [
            "Collecting PyMuPDF\n",
            "  Downloading pymupdf-1.25.2-cp39-abi3-manylinux2014_x86_64.manylinux_2_17_x86_64.whl.metadata (3.4 kB)\n",
            "Downloading pymupdf-1.25.2-cp39-abi3-manylinux2014_x86_64.manylinux_2_17_x86_64.whl (20.0 MB)\n",
            "\u001b[2K   \u001b[90m━━━━━━━━━━━━━━━━━━━━━━━━━━━━━━━━━━━━━━━━\u001b[0m \u001b[32m20.0/20.0 MB\u001b[0m \u001b[31m30.1 MB/s\u001b[0m eta \u001b[36m0:00:00\u001b[0m\n",
            "\u001b[?25hInstalling collected packages: PyMuPDF\n",
            "Successfully installed PyMuPDF-1.25.2\n",
            "\u001b[31mERROR: Could not find a version that satisfies the requirement re (from versions: none)\u001b[0m\u001b[31m\n",
            "\u001b[0m\u001b[31mERROR: No matching distribution found for re\u001b[0m\u001b[31m\n",
            "\u001b[0m"
          ]
        }
      ]
    },
    {
      "cell_type": "code",
      "source": [
        "# Fazer o upload do ficheiro PDF\n",
        "from google.colab import files\n",
        "\n",
        "uploaded = files.upload()"
      ],
      "metadata": {
        "colab": {
          "base_uri": "https://localhost:8080/",
          "height": 145
        },
        "id": "kREP9BlvuRvb",
        "outputId": "b0834b3e-3211-40e3-e0cd-e16cbf4d950c"
      },
      "execution_count": 2,
      "outputs": [
        {
          "output_type": "display_data",
          "data": {
            "text/plain": [
              "<IPython.core.display.HTML object>"
            ],
            "text/html": [
              "\n",
              "     <input type=\"file\" id=\"files-ea2b70f5-42b6-4338-bac1-4709960428e7\" name=\"files[]\" multiple disabled\n",
              "        style=\"border:none\" />\n",
              "     <output id=\"result-ea2b70f5-42b6-4338-bac1-4709960428e7\">\n",
              "      Upload widget is only available when the cell has been executed in the\n",
              "      current browser session. Please rerun this cell to enable.\n",
              "      </output>\n",
              "      <script>// Copyright 2017 Google LLC\n",
              "//\n",
              "// Licensed under the Apache License, Version 2.0 (the \"License\");\n",
              "// you may not use this file except in compliance with the License.\n",
              "// You may obtain a copy of the License at\n",
              "//\n",
              "//      http://www.apache.org/licenses/LICENSE-2.0\n",
              "//\n",
              "// Unless required by applicable law or agreed to in writing, software\n",
              "// distributed under the License is distributed on an \"AS IS\" BASIS,\n",
              "// WITHOUT WARRANTIES OR CONDITIONS OF ANY KIND, either express or implied.\n",
              "// See the License for the specific language governing permissions and\n",
              "// limitations under the License.\n",
              "\n",
              "/**\n",
              " * @fileoverview Helpers for google.colab Python module.\n",
              " */\n",
              "(function(scope) {\n",
              "function span(text, styleAttributes = {}) {\n",
              "  const element = document.createElement('span');\n",
              "  element.textContent = text;\n",
              "  for (const key of Object.keys(styleAttributes)) {\n",
              "    element.style[key] = styleAttributes[key];\n",
              "  }\n",
              "  return element;\n",
              "}\n",
              "\n",
              "// Max number of bytes which will be uploaded at a time.\n",
              "const MAX_PAYLOAD_SIZE = 100 * 1024;\n",
              "\n",
              "function _uploadFiles(inputId, outputId) {\n",
              "  const steps = uploadFilesStep(inputId, outputId);\n",
              "  const outputElement = document.getElementById(outputId);\n",
              "  // Cache steps on the outputElement to make it available for the next call\n",
              "  // to uploadFilesContinue from Python.\n",
              "  outputElement.steps = steps;\n",
              "\n",
              "  return _uploadFilesContinue(outputId);\n",
              "}\n",
              "\n",
              "// This is roughly an async generator (not supported in the browser yet),\n",
              "// where there are multiple asynchronous steps and the Python side is going\n",
              "// to poll for completion of each step.\n",
              "// This uses a Promise to block the python side on completion of each step,\n",
              "// then passes the result of the previous step as the input to the next step.\n",
              "function _uploadFilesContinue(outputId) {\n",
              "  const outputElement = document.getElementById(outputId);\n",
              "  const steps = outputElement.steps;\n",
              "\n",
              "  const next = steps.next(outputElement.lastPromiseValue);\n",
              "  return Promise.resolve(next.value.promise).then((value) => {\n",
              "    // Cache the last promise value to make it available to the next\n",
              "    // step of the generator.\n",
              "    outputElement.lastPromiseValue = value;\n",
              "    return next.value.response;\n",
              "  });\n",
              "}\n",
              "\n",
              "/**\n",
              " * Generator function which is called between each async step of the upload\n",
              " * process.\n",
              " * @param {string} inputId Element ID of the input file picker element.\n",
              " * @param {string} outputId Element ID of the output display.\n",
              " * @return {!Iterable<!Object>} Iterable of next steps.\n",
              " */\n",
              "function* uploadFilesStep(inputId, outputId) {\n",
              "  const inputElement = document.getElementById(inputId);\n",
              "  inputElement.disabled = false;\n",
              "\n",
              "  const outputElement = document.getElementById(outputId);\n",
              "  outputElement.innerHTML = '';\n",
              "\n",
              "  const pickedPromise = new Promise((resolve) => {\n",
              "    inputElement.addEventListener('change', (e) => {\n",
              "      resolve(e.target.files);\n",
              "    });\n",
              "  });\n",
              "\n",
              "  const cancel = document.createElement('button');\n",
              "  inputElement.parentElement.appendChild(cancel);\n",
              "  cancel.textContent = 'Cancel upload';\n",
              "  const cancelPromise = new Promise((resolve) => {\n",
              "    cancel.onclick = () => {\n",
              "      resolve(null);\n",
              "    };\n",
              "  });\n",
              "\n",
              "  // Wait for the user to pick the files.\n",
              "  const files = yield {\n",
              "    promise: Promise.race([pickedPromise, cancelPromise]),\n",
              "    response: {\n",
              "      action: 'starting',\n",
              "    }\n",
              "  };\n",
              "\n",
              "  cancel.remove();\n",
              "\n",
              "  // Disable the input element since further picks are not allowed.\n",
              "  inputElement.disabled = true;\n",
              "\n",
              "  if (!files) {\n",
              "    return {\n",
              "      response: {\n",
              "        action: 'complete',\n",
              "      }\n",
              "    };\n",
              "  }\n",
              "\n",
              "  for (const file of files) {\n",
              "    const li = document.createElement('li');\n",
              "    li.append(span(file.name, {fontWeight: 'bold'}));\n",
              "    li.append(span(\n",
              "        `(${file.type || 'n/a'}) - ${file.size} bytes, ` +\n",
              "        `last modified: ${\n",
              "            file.lastModifiedDate ? file.lastModifiedDate.toLocaleDateString() :\n",
              "                                    'n/a'} - `));\n",
              "    const percent = span('0% done');\n",
              "    li.appendChild(percent);\n",
              "\n",
              "    outputElement.appendChild(li);\n",
              "\n",
              "    const fileDataPromise = new Promise((resolve) => {\n",
              "      const reader = new FileReader();\n",
              "      reader.onload = (e) => {\n",
              "        resolve(e.target.result);\n",
              "      };\n",
              "      reader.readAsArrayBuffer(file);\n",
              "    });\n",
              "    // Wait for the data to be ready.\n",
              "    let fileData = yield {\n",
              "      promise: fileDataPromise,\n",
              "      response: {\n",
              "        action: 'continue',\n",
              "      }\n",
              "    };\n",
              "\n",
              "    // Use a chunked sending to avoid message size limits. See b/62115660.\n",
              "    let position = 0;\n",
              "    do {\n",
              "      const length = Math.min(fileData.byteLength - position, MAX_PAYLOAD_SIZE);\n",
              "      const chunk = new Uint8Array(fileData, position, length);\n",
              "      position += length;\n",
              "\n",
              "      const base64 = btoa(String.fromCharCode.apply(null, chunk));\n",
              "      yield {\n",
              "        response: {\n",
              "          action: 'append',\n",
              "          file: file.name,\n",
              "          data: base64,\n",
              "        },\n",
              "      };\n",
              "\n",
              "      let percentDone = fileData.byteLength === 0 ?\n",
              "          100 :\n",
              "          Math.round((position / fileData.byteLength) * 100);\n",
              "      percent.textContent = `${percentDone}% done`;\n",
              "\n",
              "    } while (position < fileData.byteLength);\n",
              "  }\n",
              "\n",
              "  // All done.\n",
              "  yield {\n",
              "    response: {\n",
              "      action: 'complete',\n",
              "    }\n",
              "  };\n",
              "}\n",
              "\n",
              "scope.google = scope.google || {};\n",
              "scope.google.colab = scope.google.colab || {};\n",
              "scope.google.colab._files = {\n",
              "  _uploadFiles,\n",
              "  _uploadFilesContinue,\n",
              "};\n",
              "})(self);\n",
              "</script> "
            ]
          },
          "metadata": {}
        },
        {
          "output_type": "stream",
          "name": "stdout",
          "text": [
            "Saving alemao (1).txt to alemao (1).txt\n",
            "Saving Lang et al. 2002. Dicionário do Crioulo da Ilha de Santiago.pdf to Lang et al. 2002. Dicionário do Crioulo da Ilha de Santiago.pdf\n"
          ]
        }
      ]
    },
    {
      "cell_type": "code",
      "source": [
        "# Extrair o texto do PDF\n",
        "import fitz  # PyMuPDF\n",
        "import io\n",
        "\n",
        "# Nome do arquivo PDF carregado (substitua pelo nome real do seu arquivo)\n",
        "pdf_filename = \"Lang et al. 2002. Dicionário do Crioulo da Ilha de Santiago.pdf\"\n",
        "\n",
        "# Abrir o arquivo PDF e extrair o texto\n",
        "doc = fitz.open(pdf_filename)\n",
        "text = \"\"\n",
        "for page in doc:\n",
        "    text += page.get_text(\"text\") + \"\\n\""
      ],
      "metadata": {
        "id": "y0LHX4atvq5b"
      },
      "execution_count": 3,
      "outputs": []
    },
    {
      "cell_type": "code",
      "source": [
        "#Carregar a lista de palavras/frases em alemão\n",
        "\n",
        "# Nome do ficheiro TXT carregado com palavras/frases em alemão\n",
        "txt_filename = \"alemao (1).txt\"\n",
        "\n",
        "# Carregar palavras/frases do ficheiro TXT\n",
        "with open(txt_filename, \"r\", encoding=\"utf-8\") as f:\n",
        "    palavras_alemao = [linha.strip() for linha in f.readlines() if linha.strip()]"
      ],
      "metadata": {
        "id": "q8gxPL0U2B2R"
      },
      "execution_count": 4,
      "outputs": []
    },
    {
      "cell_type": "code",
      "source": [
        "#Remover palavras/frases em alemão\n",
        "import re  # Importa a biblioteca para expressões regulares\n",
        "\n",
        "# Criar um padrão regex para remover palavras/frases em alemão\n",
        "padrao_alemao = r\"\\b(\" + \"|\".join(re.escape(palavra) for palavra in palavras_alemao) + r\")\\b\"\n",
        "\n",
        "# Substituir palavras/frases alemãs por espaço vazio\n",
        "texto_limpo = re.sub(padrao_alemao, \"\", text, flags=re.IGNORECASE)\n",
        "\n",
        "# Ajustar pontuação antes e depois das palavras removidas\n",
        "texto_limpo = re.sub(r\"\\s*[,;]\\s*,\", \",\", texto_limpo)  # Remove vírgulas extras\n",
        "texto_limpo = re.sub(r\"\\s*[,;]\\s*;\", \";\", texto_limpo)  # Remove ponto-e-vírgula extras\n",
        "texto_limpo = re.sub(r\",\\s*\\.\", \".\", texto_limpo)  # Remove vírgula antes de ponto final\n",
        "texto_limpo = re.sub(r\";\\s*\\.\", \".\", texto_limpo)  # Remove ponto-e-vírgula antes de ponto final\n",
        "texto_limpo = re.sub(r\"\\s{2,}\", \" \", texto_limpo)  # Remove múltiplos espaços extras"
      ],
      "metadata": {
        "id": "YWrGCmPi3Nfg"
      },
      "execution_count": 5,
      "outputs": []
    },
    {
      "cell_type": "code",
      "source": [
        "# Processar o texto e extrair lemas e frases\n",
        "\n",
        "# Expressão regular para capturar os lemas e suas definições/frases\n",
        "lema_pattern = re.compile(r\"(\\w+)\\s*\\[.*?\\]\\s*s\\.,\\s*dt\\.\\s*(.*?)\\.\\s*#\\s*(.*?)\\n\", re.MULTILINE)\n",
        "\n",
        "# Lista para armazenar os resultados\n",
        "resultados = []\n",
        "\n",
        "for match in lema_pattern.finditer(texto_limpo):\n",
        "    lema = match.group(1)  # Nome do lema\n",
        "    traducao = match.group(2)  # Tradução para português\n",
        "    frase = match.group(3)  # Frase de exemplo\n",
        "\n",
        "    # Substituir o \"~\" pelo lema na frase para garantir que está correto\n",
        "    frase_formatada = frase.replace(\"~\", lema)\n",
        "\n",
        "    # Formatar o resultado final\n",
        "    resultado = f'\"{frase_formatada}.\"\\n\\n\"{lema.capitalize()}: {traducao}\"\\n\\n'\n",
        "    resultados.append(resultado)\n",
        "\n",
        "# Criar um único texto formatado\n",
        "resultado_final = \"\\n\".join(resultados)"
      ],
      "metadata": {
        "id": "XZVyeHoAwBF7"
      },
      "execution_count": 6,
      "outputs": []
    },
    {
      "cell_type": "code",
      "source": [
        "# Salvar os resultados em um ficheiro de texto\n",
        "# Nome do ficheiro de saída\n",
        "output_filename = \"frases_extraidas.txt\"\n",
        "\n",
        "# Escrever os resultados no ficheiro\n",
        "with open(output_filename, \"w\", encoding=\"utf-8\") as f:\n",
        "    f.write(resultado_final)\n",
        "\n",
        "# Oferecer o download do ficheiro\n",
        "files.download(output_filename)"
      ],
      "metadata": {
        "colab": {
          "base_uri": "https://localhost:8080/",
          "height": 17
        },
        "id": "tzGXEMjqxDNz",
        "outputId": "89bd4531-4605-42be-cc3c-3e078f486499"
      },
      "execution_count": 7,
      "outputs": [
        {
          "output_type": "display_data",
          "data": {
            "text/plain": [
              "<IPython.core.display.Javascript object>"
            ],
            "application/javascript": [
              "\n",
              "    async function download(id, filename, size) {\n",
              "      if (!google.colab.kernel.accessAllowed) {\n",
              "        return;\n",
              "      }\n",
              "      const div = document.createElement('div');\n",
              "      const label = document.createElement('label');\n",
              "      label.textContent = `Downloading \"${filename}\": `;\n",
              "      div.appendChild(label);\n",
              "      const progress = document.createElement('progress');\n",
              "      progress.max = size;\n",
              "      div.appendChild(progress);\n",
              "      document.body.appendChild(div);\n",
              "\n",
              "      const buffers = [];\n",
              "      let downloaded = 0;\n",
              "\n",
              "      const channel = await google.colab.kernel.comms.open(id);\n",
              "      // Send a message to notify the kernel that we're ready.\n",
              "      channel.send({})\n",
              "\n",
              "      for await (const message of channel.messages) {\n",
              "        // Send a message to notify the kernel that we're ready.\n",
              "        channel.send({})\n",
              "        if (message.buffers) {\n",
              "          for (const buffer of message.buffers) {\n",
              "            buffers.push(buffer);\n",
              "            downloaded += buffer.byteLength;\n",
              "            progress.value = downloaded;\n",
              "          }\n",
              "        }\n",
              "      }\n",
              "      const blob = new Blob(buffers, {type: 'application/binary'});\n",
              "      const a = document.createElement('a');\n",
              "      a.href = window.URL.createObjectURL(blob);\n",
              "      a.download = filename;\n",
              "      div.appendChild(a);\n",
              "      a.click();\n",
              "      div.remove();\n",
              "    }\n",
              "  "
            ]
          },
          "metadata": {}
        },
        {
          "output_type": "display_data",
          "data": {
            "text/plain": [
              "<IPython.core.display.Javascript object>"
            ],
            "application/javascript": [
              "download(\"download_b69b0627-d763-4c50-9f90-f3d3e941d6f3\", \"frases_extraidas.txt\", 80860)"
            ]
          },
          "metadata": {}
        }
      ]
    }
  ]
}